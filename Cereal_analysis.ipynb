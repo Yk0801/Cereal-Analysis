{
 "cells": [
  {
   "cell_type": "markdown",
   "id": "7311379a-6360-441f-864e-701ac583fe3a",
   "metadata": {},
   "source": [
    "80 Cereals\n",
    "\n",
    "\n",
    "ABOUT THE DATASET ----- Fields in the dataset:\n",
    "\n",
    "Name: Name of cereal\n",
    "\n",
    "mfr: Manufacturer of cereal\n",
    "\n",
    "A = American Home Food Products;\n",
    "\n",
    "G = General Mills\n",
    "\n",
    "K = Kelloggs\n",
    "\n",
    "N = Nabisco\n",
    "\n",
    "P = Post\n",
    "\n",
    "Q = Quaker Oats\n",
    "\n",
    "R = Ralston Purina\n",
    "\n",
    "type: cold, hot\n",
    "\n",
    "Calories: calories per serving\n",
    "\n",
    "protein: grams of protein\n",
    "\n",
    "fat: grams of fat\n",
    "\n",
    "Sodium: milligrams of sodium\n",
    "\n",
    "fiber: grams of dietary fiber\n",
    "\n",
    "carbo: grams of complex carbohydrates\n",
    "\n",
    "sugars: grams of sugars\n",
    "\n",
    "potass: milligrams of potassium\n",
    "\n",
    "vitamins: vitamins and minerals - 0, 25, or 100, indicating the typical percentage of FDA recommended\n",
    "\n",
    "shelf: display shelf (1, 2, or 3, counting from the floor)\n",
    "\n",
    "weight: weight in ounces of one serving\n",
    "\n",
    "cups: number of cups in one serving\n",
    "\n",
    "rating: a rating of the cereals (Possibly from Consumer Reports?)\n",
    "\n",
    "Acknowledgements\n",
    "These datasets have been gathered and cleaned up by Petra Isenberg, Pierre Dragicevic, and Yvonne Jansen. The source can be found here"
   ]
  },
  {
   "cell_type": "code",
   "execution_count": 1,
   "id": "0171e8e5-fd55-4304-8065-3b84a117c450",
   "metadata": {},
   "outputs": [],
   "source": [
    "import pandas as pd\n",
    "import numpy as np"
   ]
  },
  {
   "cell_type": "code",
   "execution_count": 3,
   "id": "248f13aa-5ba1-4f20-9c3d-462b4a7ece28",
   "metadata": {},
   "outputs": [],
   "source": [
    "df = pd.read_csv(\"cereal.csv\")"
   ]
  },
  {
   "cell_type": "code",
   "execution_count": 4,
   "id": "b54b2a60-4b68-473e-bcf7-1100acd04ceb",
   "metadata": {},
   "outputs": [
    {
     "data": {
      "text/html": [
       "<div>\n",
       "<style scoped>\n",
       "    .dataframe tbody tr th:only-of-type {\n",
       "        vertical-align: middle;\n",
       "    }\n",
       "\n",
       "    .dataframe tbody tr th {\n",
       "        vertical-align: top;\n",
       "    }\n",
       "\n",
       "    .dataframe thead th {\n",
       "        text-align: right;\n",
       "    }\n",
       "</style>\n",
       "<table border=\"1\" class=\"dataframe\">\n",
       "  <thead>\n",
       "    <tr style=\"text-align: right;\">\n",
       "      <th></th>\n",
       "      <th>name</th>\n",
       "      <th>mfr</th>\n",
       "      <th>type</th>\n",
       "      <th>calories</th>\n",
       "      <th>protein</th>\n",
       "      <th>fat</th>\n",
       "      <th>sodium</th>\n",
       "      <th>fiber</th>\n",
       "      <th>carbo</th>\n",
       "      <th>sugars</th>\n",
       "      <th>potass</th>\n",
       "      <th>vitamins</th>\n",
       "      <th>shelf</th>\n",
       "      <th>weight</th>\n",
       "      <th>cups</th>\n",
       "      <th>rating</th>\n",
       "    </tr>\n",
       "  </thead>\n",
       "  <tbody>\n",
       "    <tr>\n",
       "      <th>0</th>\n",
       "      <td>100% Bran</td>\n",
       "      <td>N</td>\n",
       "      <td>C</td>\n",
       "      <td>70</td>\n",
       "      <td>4</td>\n",
       "      <td>1</td>\n",
       "      <td>130</td>\n",
       "      <td>10.0</td>\n",
       "      <td>5.0</td>\n",
       "      <td>6</td>\n",
       "      <td>280</td>\n",
       "      <td>25</td>\n",
       "      <td>3</td>\n",
       "      <td>1.0</td>\n",
       "      <td>0.33</td>\n",
       "      <td>68.402973</td>\n",
       "    </tr>\n",
       "    <tr>\n",
       "      <th>1</th>\n",
       "      <td>100% Natural Bran</td>\n",
       "      <td>Q</td>\n",
       "      <td>C</td>\n",
       "      <td>120</td>\n",
       "      <td>3</td>\n",
       "      <td>5</td>\n",
       "      <td>15</td>\n",
       "      <td>2.0</td>\n",
       "      <td>8.0</td>\n",
       "      <td>8</td>\n",
       "      <td>135</td>\n",
       "      <td>0</td>\n",
       "      <td>3</td>\n",
       "      <td>1.0</td>\n",
       "      <td>1.00</td>\n",
       "      <td>33.983679</td>\n",
       "    </tr>\n",
       "    <tr>\n",
       "      <th>2</th>\n",
       "      <td>All-Bran</td>\n",
       "      <td>K</td>\n",
       "      <td>C</td>\n",
       "      <td>70</td>\n",
       "      <td>4</td>\n",
       "      <td>1</td>\n",
       "      <td>260</td>\n",
       "      <td>9.0</td>\n",
       "      <td>7.0</td>\n",
       "      <td>5</td>\n",
       "      <td>320</td>\n",
       "      <td>25</td>\n",
       "      <td>3</td>\n",
       "      <td>1.0</td>\n",
       "      <td>0.33</td>\n",
       "      <td>59.425505</td>\n",
       "    </tr>\n",
       "    <tr>\n",
       "      <th>3</th>\n",
       "      <td>All-Bran with Extra Fiber</td>\n",
       "      <td>K</td>\n",
       "      <td>C</td>\n",
       "      <td>50</td>\n",
       "      <td>4</td>\n",
       "      <td>0</td>\n",
       "      <td>140</td>\n",
       "      <td>14.0</td>\n",
       "      <td>8.0</td>\n",
       "      <td>0</td>\n",
       "      <td>330</td>\n",
       "      <td>25</td>\n",
       "      <td>3</td>\n",
       "      <td>1.0</td>\n",
       "      <td>0.50</td>\n",
       "      <td>93.704912</td>\n",
       "    </tr>\n",
       "    <tr>\n",
       "      <th>4</th>\n",
       "      <td>Almond Delight</td>\n",
       "      <td>R</td>\n",
       "      <td>C</td>\n",
       "      <td>110</td>\n",
       "      <td>2</td>\n",
       "      <td>2</td>\n",
       "      <td>200</td>\n",
       "      <td>1.0</td>\n",
       "      <td>14.0</td>\n",
       "      <td>8</td>\n",
       "      <td>-1</td>\n",
       "      <td>25</td>\n",
       "      <td>3</td>\n",
       "      <td>1.0</td>\n",
       "      <td>0.75</td>\n",
       "      <td>34.384843</td>\n",
       "    </tr>\n",
       "  </tbody>\n",
       "</table>\n",
       "</div>"
      ],
      "text/plain": [
       "                        name mfr type  calories  protein  fat  sodium  fiber  \\\n",
       "0                  100% Bran   N    C        70        4    1     130   10.0   \n",
       "1          100% Natural Bran   Q    C       120        3    5      15    2.0   \n",
       "2                   All-Bran   K    C        70        4    1     260    9.0   \n",
       "3  All-Bran with Extra Fiber   K    C        50        4    0     140   14.0   \n",
       "4             Almond Delight   R    C       110        2    2     200    1.0   \n",
       "\n",
       "   carbo  sugars  potass  vitamins  shelf  weight  cups     rating  \n",
       "0    5.0       6     280        25      3     1.0  0.33  68.402973  \n",
       "1    8.0       8     135         0      3     1.0  1.00  33.983679  \n",
       "2    7.0       5     320        25      3     1.0  0.33  59.425505  \n",
       "3    8.0       0     330        25      3     1.0  0.50  93.704912  \n",
       "4   14.0       8      -1        25      3     1.0  0.75  34.384843  "
      ]
     },
     "execution_count": 4,
     "metadata": {},
     "output_type": "execute_result"
    }
   ],
   "source": [
    "df.head()"
   ]
  },
  {
   "cell_type": "code",
   "execution_count": 10,
   "id": "8c975ec0-5cf8-41b9-a3bb-976435a6afd1",
   "metadata": {},
   "outputs": [],
   "source": [
    "cereals = df.copy()"
   ]
  },
  {
   "cell_type": "code",
   "execution_count": 11,
   "id": "280e40ac-3573-4693-8dd7-53c90ab2a5d0",
   "metadata": {},
   "outputs": [
    {
     "data": {
      "text/html": [
       "<div>\n",
       "<style scoped>\n",
       "    .dataframe tbody tr th:only-of-type {\n",
       "        vertical-align: middle;\n",
       "    }\n",
       "\n",
       "    .dataframe tbody tr th {\n",
       "        vertical-align: top;\n",
       "    }\n",
       "\n",
       "    .dataframe thead th {\n",
       "        text-align: right;\n",
       "    }\n",
       "</style>\n",
       "<table border=\"1\" class=\"dataframe\">\n",
       "  <thead>\n",
       "    <tr style=\"text-align: right;\">\n",
       "      <th></th>\n",
       "      <th>calories</th>\n",
       "      <th>protein</th>\n",
       "      <th>fat</th>\n",
       "      <th>sodium</th>\n",
       "      <th>fiber</th>\n",
       "      <th>carbo</th>\n",
       "      <th>sugars</th>\n",
       "      <th>potass</th>\n",
       "      <th>vitamins</th>\n",
       "      <th>shelf</th>\n",
       "      <th>weight</th>\n",
       "      <th>cups</th>\n",
       "      <th>rating</th>\n",
       "    </tr>\n",
       "  </thead>\n",
       "  <tbody>\n",
       "    <tr>\n",
       "      <th>count</th>\n",
       "      <td>77.000000</td>\n",
       "      <td>77.000000</td>\n",
       "      <td>77.000000</td>\n",
       "      <td>77.000000</td>\n",
       "      <td>77.000000</td>\n",
       "      <td>77.000000</td>\n",
       "      <td>77.000000</td>\n",
       "      <td>77.000000</td>\n",
       "      <td>77.000000</td>\n",
       "      <td>77.000000</td>\n",
       "      <td>77.000000</td>\n",
       "      <td>77.000000</td>\n",
       "      <td>77.000000</td>\n",
       "    </tr>\n",
       "    <tr>\n",
       "      <th>mean</th>\n",
       "      <td>106.883117</td>\n",
       "      <td>2.545455</td>\n",
       "      <td>1.012987</td>\n",
       "      <td>159.675325</td>\n",
       "      <td>2.151948</td>\n",
       "      <td>14.597403</td>\n",
       "      <td>6.922078</td>\n",
       "      <td>96.077922</td>\n",
       "      <td>28.246753</td>\n",
       "      <td>2.207792</td>\n",
       "      <td>1.029610</td>\n",
       "      <td>0.821039</td>\n",
       "      <td>42.665705</td>\n",
       "    </tr>\n",
       "    <tr>\n",
       "      <th>std</th>\n",
       "      <td>19.484119</td>\n",
       "      <td>1.094790</td>\n",
       "      <td>1.006473</td>\n",
       "      <td>83.832295</td>\n",
       "      <td>2.383364</td>\n",
       "      <td>4.278956</td>\n",
       "      <td>4.444885</td>\n",
       "      <td>71.286813</td>\n",
       "      <td>22.342523</td>\n",
       "      <td>0.832524</td>\n",
       "      <td>0.150477</td>\n",
       "      <td>0.232716</td>\n",
       "      <td>14.047289</td>\n",
       "    </tr>\n",
       "    <tr>\n",
       "      <th>min</th>\n",
       "      <td>50.000000</td>\n",
       "      <td>1.000000</td>\n",
       "      <td>0.000000</td>\n",
       "      <td>0.000000</td>\n",
       "      <td>0.000000</td>\n",
       "      <td>-1.000000</td>\n",
       "      <td>-1.000000</td>\n",
       "      <td>-1.000000</td>\n",
       "      <td>0.000000</td>\n",
       "      <td>1.000000</td>\n",
       "      <td>0.500000</td>\n",
       "      <td>0.250000</td>\n",
       "      <td>18.042851</td>\n",
       "    </tr>\n",
       "    <tr>\n",
       "      <th>25%</th>\n",
       "      <td>100.000000</td>\n",
       "      <td>2.000000</td>\n",
       "      <td>0.000000</td>\n",
       "      <td>130.000000</td>\n",
       "      <td>1.000000</td>\n",
       "      <td>12.000000</td>\n",
       "      <td>3.000000</td>\n",
       "      <td>40.000000</td>\n",
       "      <td>25.000000</td>\n",
       "      <td>1.000000</td>\n",
       "      <td>1.000000</td>\n",
       "      <td>0.670000</td>\n",
       "      <td>33.174094</td>\n",
       "    </tr>\n",
       "    <tr>\n",
       "      <th>50%</th>\n",
       "      <td>110.000000</td>\n",
       "      <td>3.000000</td>\n",
       "      <td>1.000000</td>\n",
       "      <td>180.000000</td>\n",
       "      <td>2.000000</td>\n",
       "      <td>14.000000</td>\n",
       "      <td>7.000000</td>\n",
       "      <td>90.000000</td>\n",
       "      <td>25.000000</td>\n",
       "      <td>2.000000</td>\n",
       "      <td>1.000000</td>\n",
       "      <td>0.750000</td>\n",
       "      <td>40.400208</td>\n",
       "    </tr>\n",
       "    <tr>\n",
       "      <th>75%</th>\n",
       "      <td>110.000000</td>\n",
       "      <td>3.000000</td>\n",
       "      <td>2.000000</td>\n",
       "      <td>210.000000</td>\n",
       "      <td>3.000000</td>\n",
       "      <td>17.000000</td>\n",
       "      <td>11.000000</td>\n",
       "      <td>120.000000</td>\n",
       "      <td>25.000000</td>\n",
       "      <td>3.000000</td>\n",
       "      <td>1.000000</td>\n",
       "      <td>1.000000</td>\n",
       "      <td>50.828392</td>\n",
       "    </tr>\n",
       "    <tr>\n",
       "      <th>max</th>\n",
       "      <td>160.000000</td>\n",
       "      <td>6.000000</td>\n",
       "      <td>5.000000</td>\n",
       "      <td>320.000000</td>\n",
       "      <td>14.000000</td>\n",
       "      <td>23.000000</td>\n",
       "      <td>15.000000</td>\n",
       "      <td>330.000000</td>\n",
       "      <td>100.000000</td>\n",
       "      <td>3.000000</td>\n",
       "      <td>1.500000</td>\n",
       "      <td>1.500000</td>\n",
       "      <td>93.704912</td>\n",
       "    </tr>\n",
       "  </tbody>\n",
       "</table>\n",
       "</div>"
      ],
      "text/plain": [
       "         calories    protein        fat      sodium      fiber      carbo  \\\n",
       "count   77.000000  77.000000  77.000000   77.000000  77.000000  77.000000   \n",
       "mean   106.883117   2.545455   1.012987  159.675325   2.151948  14.597403   \n",
       "std     19.484119   1.094790   1.006473   83.832295   2.383364   4.278956   \n",
       "min     50.000000   1.000000   0.000000    0.000000   0.000000  -1.000000   \n",
       "25%    100.000000   2.000000   0.000000  130.000000   1.000000  12.000000   \n",
       "50%    110.000000   3.000000   1.000000  180.000000   2.000000  14.000000   \n",
       "75%    110.000000   3.000000   2.000000  210.000000   3.000000  17.000000   \n",
       "max    160.000000   6.000000   5.000000  320.000000  14.000000  23.000000   \n",
       "\n",
       "          sugars      potass    vitamins      shelf     weight       cups  \\\n",
       "count  77.000000   77.000000   77.000000  77.000000  77.000000  77.000000   \n",
       "mean    6.922078   96.077922   28.246753   2.207792   1.029610   0.821039   \n",
       "std     4.444885   71.286813   22.342523   0.832524   0.150477   0.232716   \n",
       "min    -1.000000   -1.000000    0.000000   1.000000   0.500000   0.250000   \n",
       "25%     3.000000   40.000000   25.000000   1.000000   1.000000   0.670000   \n",
       "50%     7.000000   90.000000   25.000000   2.000000   1.000000   0.750000   \n",
       "75%    11.000000  120.000000   25.000000   3.000000   1.000000   1.000000   \n",
       "max    15.000000  330.000000  100.000000   3.000000   1.500000   1.500000   \n",
       "\n",
       "          rating  \n",
       "count  77.000000  \n",
       "mean   42.665705  \n",
       "std    14.047289  \n",
       "min    18.042851  \n",
       "25%    33.174094  \n",
       "50%    40.400208  \n",
       "75%    50.828392  \n",
       "max    93.704912  "
      ]
     },
     "execution_count": 11,
     "metadata": {},
     "output_type": "execute_result"
    }
   ],
   "source": [
    "cereals.describe()"
   ]
  },
  {
   "cell_type": "code",
   "execution_count": 12,
   "id": "1c1778ea-0c5b-4697-b5f5-9cbd185ef9b2",
   "metadata": {},
   "outputs": [
    {
     "name": "stdout",
     "output_type": "stream",
     "text": [
      "<class 'pandas.core.frame.DataFrame'>\n",
      "RangeIndex: 77 entries, 0 to 76\n",
      "Data columns (total 16 columns):\n",
      " #   Column    Non-Null Count  Dtype  \n",
      "---  ------    --------------  -----  \n",
      " 0   name      77 non-null     object \n",
      " 1   mfr       77 non-null     object \n",
      " 2   type      77 non-null     object \n",
      " 3   calories  77 non-null     int64  \n",
      " 4   protein   77 non-null     int64  \n",
      " 5   fat       77 non-null     int64  \n",
      " 6   sodium    77 non-null     int64  \n",
      " 7   fiber     77 non-null     float64\n",
      " 8   carbo     77 non-null     float64\n",
      " 9   sugars    77 non-null     int64  \n",
      " 10  potass    77 non-null     int64  \n",
      " 11  vitamins  77 non-null     int64  \n",
      " 12  shelf     77 non-null     int64  \n",
      " 13  weight    77 non-null     float64\n",
      " 14  cups      77 non-null     float64\n",
      " 15  rating    77 non-null     float64\n",
      "dtypes: float64(5), int64(8), object(3)\n",
      "memory usage: 9.8+ KB\n"
     ]
    }
   ],
   "source": [
    "cereals.info()"
   ]
  },
  {
   "cell_type": "code",
   "execution_count": 13,
   "id": "32eaf621-acf9-4385-878b-43dcc0296c1d",
   "metadata": {},
   "outputs": [
    {
     "data": {
      "text/plain": [
       "(77, 16)"
      ]
     },
     "execution_count": 13,
     "metadata": {},
     "output_type": "execute_result"
    }
   ],
   "source": [
    "cereals.shape"
   ]
  },
  {
   "cell_type": "code",
   "execution_count": 14,
   "id": "6c41c2c5-fd8c-41fe-82d5-b4f22861851c",
   "metadata": {},
   "outputs": [
    {
     "data": {
      "text/plain": [
       "name        0\n",
       "mfr         0\n",
       "type        0\n",
       "calories    0\n",
       "protein     0\n",
       "fat         0\n",
       "sodium      0\n",
       "fiber       0\n",
       "carbo       0\n",
       "sugars      0\n",
       "potass      0\n",
       "vitamins    0\n",
       "shelf       0\n",
       "weight      0\n",
       "cups        0\n",
       "rating      0\n",
       "dtype: int64"
      ]
     },
     "execution_count": 14,
     "metadata": {},
     "output_type": "execute_result"
    }
   ],
   "source": [
    "cereals.isnull().sum()"
   ]
  },
  {
   "cell_type": "markdown",
   "id": "e9ae409e-8f97-4d68-89e6-77f3c839adf8",
   "metadata": {},
   "source": [
    "\n",
    "Exploratory data analysis\n",
    "\n",
    "\r\n",
    "Explore Categorical variables"
   ]
  },
  {
   "cell_type": "code",
   "execution_count": 15,
   "id": "ccfde9ca-9055-4530-a6cb-193c36d1e218",
   "metadata": {},
   "outputs": [
    {
     "name": "stdout",
     "output_type": "stream",
     "text": [
      "mfr\n",
      "K    23\n",
      "G    22\n",
      "P     9\n",
      "Q     8\n",
      "R     8\n",
      "N     6\n",
      "A     1\n",
      "Name: count, dtype: int64\n",
      "type\n",
      "C    74\n",
      "H     3\n",
      "Name: count, dtype: int64\n"
     ]
    }
   ],
   "source": [
    "print(cereals ['mfr'].value_counts())\n",
    "print(cereals['type'].value_counts())"
   ]
  },
  {
   "cell_type": "markdown",
   "id": "312ba4dd-7a45-4cfd-b1a0-0d5b68982b88",
   "metadata": {},
   "source": [
    "visualize numerical variables"
   ]
  },
  {
   "cell_type": "code",
   "execution_count": 17,
   "id": "9bef0eea-397c-4008-bc86-37f6c4089f9b",
   "metadata": {},
   "outputs": [],
   "source": [
    "import matplotlib.pyplot as plt\n",
    "import seaborn as sns"
   ]
  },
  {
   "cell_type": "code",
   "execution_count": 26,
   "id": "f3705f46-1de7-4aa9-b301-953fa380d51f",
   "metadata": {},
   "outputs": [
    {
     "name": "stderr",
     "output_type": "stream",
     "text": [
      "E:\\Movies\\Lib\\site-packages\\seaborn\\_oldcore.py:1119: FutureWarning: use_inf_as_na option is deprecated and will be removed in a future version. Convert inf values to NaN before operating instead.\n",
      "  with pd.option_context('mode.use_inf_as_na', True):\n"
     ]
    },
    {
     "data": {
      "image/png": "[encoded data removed]",
      "text/plain": [
       "<Figure size 640x480 with 1 Axes>"
      ]
     },
     "metadata": {},
     "output_type": "display_data"
    }
   ],
   "source": [
    "sns.histplot(df['calories'],bins = 20 ,kde=True)\n",
    "plt.title(\"Distribution of calories\")\n",
    "plt.show()"
   ]
  },
  {
   "cell_type": "code",
   "execution_count": 35,
   "id": "1e4ab37f-3e81-4ba3-8897-c8d5821a49c0",
   "metadata": {},
   "outputs": [
    {
     "data": {
      "image/png": "[encoded data removed]",
      "text/plain": [
       "<Figure size 640x480 with 2 Axes>"
      ]
     },
     "metadata": {},
     "output_type": "display_data"
    }
   ],
   "source": [
    "numeric_df = df.select_dtypes(include=['number'])\n",
    "correlation_matrix = numeric_df.corr()\n",
    "sns.heatmap(correlation_matrix,annot = True,cmap = 'coolwarm')\n",
    "plt.title('Correlation Matrix')\n",
    "plt.show()"
   ]
  },
  {
   "cell_type": "code",
   "execution_count": 36,
   "id": "418c8d57-0d4c-4c8a-a877-52782d054c3d",
   "metadata": {},
   "outputs": [
    {
     "data": {
      "image/png": "[encoded data removed]",
      "text/plain": [
       "<Figure size 640x480 with 1 Axes>"
      ]
     },
     "metadata": {},
     "output_type": "display_data"
    }
   ],
   "source": [
    "sns.boxplot(x ='mfr',y = 'rating' , data = df)\n",
    "plt.title('Rating of manufacturer')\n",
    "plt.show()"
   ]
  },
  {
   "cell_type": "markdown",
   "id": "6250a634-9034-4957-be4a-b8d2a76dd345",
   "metadata": {},
   "source": [
    "Insights"
   ]
  },
  {
   "cell_type": "markdown",
   "id": "0a0f9fa4-18f7-41f1-8893-ac3ae1036ee6",
   "metadata": {},
   "source": [
    "Top manufactuer"
   ]
  },
  {
   "cell_type": "code",
   "execution_count": 39,
   "id": "31c568ee-6185-41de-a8f7-d88a5b49b41e",
   "metadata": {},
   "outputs": [
    {
     "name": "stdout",
     "output_type": "stream",
     "text": [
      "mfr\n",
      "G    34.485852\n",
      "R    41.542997\n",
      "P    41.705744\n",
      "Q    42.915990\n",
      "K    44.038462\n",
      "A    54.850917\n",
      "N    67.968567\n",
      "Name: rating, dtype: float64\n"
     ]
    }
   ],
   "source": [
    "avg_rating_by_manufacturer = df.groupby('mfr')['rating'].mean().sort_values(ascending = True)\n",
    "print(avg_rating_by_manufacturer)"
   ]
  },
  {
   "cell_type": "code",
   "execution_count": 40,
   "id": "ae3f8c51-2a05-44b8-b233-a058acee83ed",
   "metadata": {},
   "outputs": [
    {
     "name": "stdout",
     "output_type": "stream",
     "text": [
      "mfr\n",
      "N    67.968567\n",
      "A    54.850917\n",
      "K    44.038462\n",
      "Q    42.915990\n",
      "P    41.705744\n",
      "R    41.542997\n",
      "G    34.485852\n",
      "Name: rating, dtype: float64\n"
     ]
    }
   ],
   "source": [
    "avg_rating_by_manufacturer = df.groupby('mfr')['rating'].mean().sort_values(ascending = False)\n",
    "print(avg_rating_by_manufacturer)"
   ]
  },
  {
   "cell_type": "code",
   "execution_count": 41,
   "id": "1dbd1ef3-1656-4627-9425-2bfb0b33fac6",
   "metadata": {},
   "outputs": [
    {
     "data": {
      "image/png": "[encoded data removed]",
      "text/plain": [
       "<Figure size 640x480 with 1 Axes>"
      ]
     },
     "metadata": {},
     "output_type": "display_data"
    }
   ],
   "source": [
    "df['high_fiber'] = df['fiber'] > df['fiber'].median()\n",
    "sns.boxplot(x = 'high_fiber', y = 'rating' , data = df)\n",
    "plt.title('Rating comparison: High vs.low Fiber Cereals')\n",
    "plt.show()"
   ]
  },
  {
   "cell_type": "code",
   "execution_count": 43,
   "id": "4260802c-c8a5-47a5-a6dc-e921eaad58a1",
   "metadata": {},
   "outputs": [
    {
     "name": "stdout",
     "output_type": "stream",
     "text": [
      "Average rating for high fiber cereals: 50.931590620689654\n",
      "Average rating for low fiber cereals: 37.671732416666664\n"
     ]
    }
   ],
   "source": [
    "df['High_fiber'] = df['fiber'] > df['fiber'].median()\n",
    "avg_rating_high_fiber = df.loc[df['high_fiber'],'rating'].mean()\n",
    "avg_rating_low_fiber = df.loc[~df['high_fiber'],'rating'].mean()\n",
    "\n",
    "print(f\"Average rating for high fiber cereals: {avg_rating_high_fiber}\")\n",
    "print(f\"Average rating for low fiber cereals: {avg_rating_low_fiber}\")\n"
   ]
  },
  {
   "cell_type": "code",
   "execution_count": 44,
   "id": "4e41cf78-2dc6-4236-b52b-1d3cfeb7f89e",
   "metadata": {},
   "outputs": [
    {
     "data": {
      "image/png": "[encoded data removed]",
      "text/plain": [
       "<Figure size 640x480 with 1 Axes>"
      ]
     },
     "metadata": {},
     "output_type": "display_data"
    }
   ],
   "source": [
    "sns.boxplot(x ='shelf', y = 'rating' , data = df)\n",
    "plt.title('rating by shelf placement')\n",
    "plt.show()"
   ]
  },
  {
   "cell_type": "code",
   "execution_count": 45,
   "id": "4d78cecc-4f9b-466f-90e3-8e05c77280d2",
   "metadata": {},
   "outputs": [
    {
     "name": "stdout",
     "output_type": "stream",
     "text": [
      "average ratings by shelf:\n",
      "shelf\n",
      "1    46.145439\n",
      "2    34.972827\n",
      "3    45.220032\n",
      "Name: rating, dtype: float64\n"
     ]
    }
   ],
   "source": [
    "avg_rating_by_shelf = df.groupby('shelf')['rating'].mean()\n",
    "print(\"average ratings by shelf:\")\n",
    "print(avg_rating_by_shelf)"
   ]
  },
  {
   "cell_type": "code",
   "execution_count": 46,
   "id": "b8fb5265-763c-494b-b7c4-242751656bfc",
   "metadata": {},
   "outputs": [
    {
     "data": {
      "image/png": "[encoded data removed]",
      "text/plain": [
       "<Figure size 640x480 with 1 Axes>"
      ]
     },
     "metadata": {},
     "output_type": "display_data"
    }
   ],
   "source": [
    "sns.boxplot(x = 'type' , y = 'rating' , data = df)\n",
    "plt.title('rating camparison: Cold vs Hot Cereals')\n",
    "plt.show()"
   ]
  },
  {
   "cell_type": "code",
   "execution_count": 47,
   "id": "b38f5797-6ab4-4e4b-bd62-aaa16d209144",
   "metadata": {},
   "outputs": [
    {
     "name": "stdout",
     "output_type": "stream",
     "text": [
      "The cereal type with the highest average rating is: H\n"
     ]
    }
   ],
   "source": [
    "avg_rating_by_type = df.groupby('type')['rating'].mean()\n",
    "top_cereal_max = avg_rating_by_type.idxmax()\n",
    "print(f\"The cereal type with the highest average rating is: {top_cereal_max}\")"
   ]
  },
  {
   "cell_type": "code",
   "execution_count": 48,
   "id": "268c54ed-7474-460a-8bc1-9ec09d59d577",
   "metadata": {},
   "outputs": [
    {
     "name": "stdout",
     "output_type": "stream",
     "text": [
      "Correlation between nutrients and rating:\n",
      "calories   -0.689376\n",
      "protein     0.470618\n",
      "fat        -0.409284\n",
      "sodium     -0.401295\n",
      "fiber       0.584160\n",
      "carbo       0.052055\n",
      "sugars     -0.759675\n",
      "potass      0.380165\n",
      "rating      1.000000\n",
      "Name: rating, dtype: float64\n"
     ]
    }
   ],
   "source": [
    "\n",
    "# Calculate correlation coefficients\n",
    "correlation_with_rating = df[['calories', 'protein', 'fat', 'sodium', 'fiber', 'carbo', 'sugars', 'potass', 'rating']].corr()['rating']\n",
    "\n",
    "# Display the correlation coefficients\n",
    "print(\"Correlation between nutrients and rating:\")\n",
    "print(correlation_with_rating)"
   ]
  },
  {
   "cell_type": "code",
   "execution_count": 51,
   "id": "e261385e-7b81-4683-9333-736143e407ce",
   "metadata": {},
   "outputs": [
    {
     "name": "stdout",
     "output_type": "stream",
     "text": [
      "correlation between calories and rating: -0.6893760311652586\n"
     ]
    }
   ],
   "source": [
    "correlation_calories_rating = df['calories'].corr(df['rating'])\n",
    "print(f\"correlation between calories and rating: {correlation_calories_rating}\")"
   ]
  }
 ],
 "metadata": {
  "kernelspec": {
   "display_name": "Python 3 (ipykernel)",
   "language": "python",
   "name": "python3"
  },
  "language_info": {
   "codemirror_mode": {
    "name": "ipython",
    "version": 3
   },
   "file_extension": ".py",
   "mimetype": "text/x-python",
   "name": "python",
   "nbconvert_exporter": "python",
   "pygments_lexer": "ipython3",
   "version": "3.11.7"
  }
 },
 "nbformat": 4,
 "nbformat_minor": 5
}
